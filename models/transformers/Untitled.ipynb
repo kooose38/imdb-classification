{
 "cells": [
  {
   "cell_type": "code",
   "execution_count": 1,
   "id": "3af103a6-0c64-43a4-b67f-f2acbe7fce59",
   "metadata": {},
   "outputs": [],
   "source": [
    "from pred.preprocessing_predict import prep"
   ]
  },
  {
   "cell_type": "code",
   "execution_count": 2,
   "id": "388de083-c613-4611-9339-9c0e03f6d627",
   "metadata": {},
   "outputs": [
    {
     "ename": "SyntaxError",
     "evalue": "f-string: unmatched '(' (make_pkl.py, line 23)",
     "output_type": "error",
     "traceback": [
      "Traceback \u001b[0;36m(most recent call last)\u001b[0m:\n",
      "  File \u001b[1;32m\"/home/kooose/my-lab/imdb-classification/lib/python3.8/site-packages/IPython/core/interactiveshell.py\"\u001b[0m, line \u001b[1;32m3441\u001b[0m, in \u001b[1;35mrun_code\u001b[0m\n    exec(code_obj, self.user_global_ns, self.user_ns)\n",
      "\u001b[0;36m  File \u001b[0;32m\"/tmp/ipykernel_1504/940123225.py\"\u001b[0;36m, line \u001b[0;32m1\u001b[0;36m, in \u001b[0;35m<module>\u001b[0;36m\u001b[0m\n\u001b[0;31m    from pred.make_pkl import make_dump_prep, load_dump_prep, upload_s3_bucket\u001b[0m\n",
      "\u001b[0;36m  File \u001b[0;32m\"/home/kooose/my-lab/imdb-classification/work/models/transformers/pred/make_pkl.py\"\u001b[0;36m, line \u001b[0;32m23\u001b[0m\n\u001b[0;31m    bucket.upload_file(filename, f\"{model_name}/{s3_dir.split(\"/\")[2]}/{s3_dir.split(\"/\")[3]}\")\u001b[0m\n\u001b[0m                                 ^\u001b[0m\n\u001b[0;31mSyntaxError\u001b[0m\u001b[0;31m:\u001b[0m f-string: unmatched '('\n"
     ]
    }
   ],
   "source": [
    "from pred.make_pkl import make_dump_prep, load_dump_prep, upload_s3_bucket"
   ]
  },
  {
   "cell_type": "code",
   "execution_count": null,
   "id": "cbbfc70b-0da8-433a-86a8-94a9871fe35e",
   "metadata": {},
   "outputs": [],
   "source": [
    "make_dump_prep(prep)"
   ]
  },
  {
   "cell_type": "code",
   "execution_count": null,
   "id": "e2ffd77f-4248-4d73-8313-3d3e8b72c0f0",
   "metadata": {},
   "outputs": [],
   "source": [
    "upload_s3_bucket()"
   ]
  },
  {
   "cell_type": "code",
   "execution_count": null,
   "id": "26821370-0e85-455d-99f2-7b1fb553c744",
   "metadata": {},
   "outputs": [],
   "source": []
  }
 ],
 "metadata": {
  "kernelspec": {
   "display_name": "Python 3 (ipykernel)",
   "language": "python",
   "name": "python3"
  },
  "language_info": {
   "codemirror_mode": {
    "name": "ipython",
    "version": 3
   },
   "file_extension": ".py",
   "mimetype": "text/x-python",
   "name": "python",
   "nbconvert_exporter": "python",
   "pygments_lexer": "ipython3",
   "version": "3.8.5"
  }
 },
 "nbformat": 4,
 "nbformat_minor": 5
}
