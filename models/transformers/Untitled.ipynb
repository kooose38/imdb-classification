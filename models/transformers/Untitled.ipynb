{
 "cells": [
  {
   "cell_type": "code",
   "execution_count": 1,
   "id": "3af103a6-0c64-43a4-b67f-f2acbe7fce59",
   "metadata": {},
   "outputs": [],
   "source": [
    "from pred.preprocessing_predict import prep"
   ]
  },
  {
   "cell_type": "code",
   "execution_count": 2,
   "id": "388de083-c613-4611-9339-9c0e03f6d627",
   "metadata": {},
   "outputs": [],
   "source": [
    "from pred.make_pkl import make_dump_prep, load_dump_prep, upload_s3_bucket"
   ]
  },
  {
   "cell_type": "code",
   "execution_count": 3,
   "id": "cbbfc70b-0da8-433a-86a8-94a9871fe35e",
   "metadata": {},
   "outputs": [],
   "source": [
    "make_dump_prep(prep)"
   ]
  },
  {
   "cell_type": "code",
   "execution_count": 4,
   "id": "e2ffd77f-4248-4d73-8313-3d3e8b72c0f0",
   "metadata": {},
   "outputs": [
    {
     "name": "stderr",
     "output_type": "stream",
     "text": [
      "INFO:botocore.credentials:Found credentials in shared credentials file: ~/.aws/credentials\n",
      "INFO:pred.make_pkl:upload file to s3 ....\n"
     ]
    }
   ],
   "source": [
    "upload_s3_bucket()"
   ]
  },
  {
   "cell_type": "code",
   "execution_count": 5,
   "id": "26821370-0e85-455d-99f2-7b1fb553c744",
   "metadata": {},
   "outputs": [
    {
     "data": {
      "text/plain": [
       "'1/'"
      ]
     },
     "execution_count": 5,
     "metadata": {},
     "output_type": "execute_result"
    }
   ],
   "source": [
    "a = 1 \n",
    "f\"{a}/\""
   ]
  },
  {
   "cell_type": "code",
   "execution_count": null,
   "id": "8c462ea5-e0a8-4df1-9762-837f32bb2949",
   "metadata": {},
   "outputs": [],
   "source": []
  }
 ],
 "metadata": {
  "kernelspec": {
   "display_name": "Python 3 (ipykernel)",
   "language": "python",
   "name": "python3"
  },
  "language_info": {
   "codemirror_mode": {
    "name": "ipython",
    "version": 3
   },
   "file_extension": ".py",
   "mimetype": "text/x-python",
   "name": "python",
   "nbconvert_exporter": "python",
   "pygments_lexer": "ipython3",
   "version": "3.8.5"
  }
 },
 "nbformat": 4,
 "nbformat_minor": 5
}
