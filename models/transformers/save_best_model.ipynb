{
 "cells": [
  {
   "cell_type": "code",
   "execution_count": 5,
   "id": "ce807c87-906b-426a-b7b6-743e467e92f0",
   "metadata": {},
   "outputs": [],
   "source": [
    "from load_data import CreateDataLoader \n",
    "from networks.embedding_net import EmbedderAndPositionEncoder\n",
    "from networks.attention_net import TransformerBlock\n",
    "from networks.classifier_net import Classification \n",
    "from networks.transformer_net import TransformerClassification\n",
    "import torch\n",
    "from trainer import trainer \n",
    "from evaluate import evaluate "
   ]
  },
  {
   "cell_type": "markdown",
   "id": "2cb6d280-45f3-4573-ba9a-c05adfe1914b",
   "metadata": {},
   "source": [
    "### load dataset "
   ]
  },
  {
   "cell_type": "code",
   "execution_count": 6,
   "id": "b96f7bcb-194a-4f8b-a279-41a561e5416f",
   "metadata": {},
   "outputs": [
    {
     "name": "stdout",
     "output_type": "stream",
     "text": [
      "torch.Size([32, 256])\n",
      "121855\n"
     ]
    }
   ],
   "source": [
    "loader = CreateDataLoader()\n",
    "train, val, test = loader.make_loader()\n",
    "vocab_size = loader.vocab_size\n",
    "\n",
    "sample = None \n",
    "for r in train:\n",
    "    sample = r[\"input_ids\"]\n",
    "    break \n",
    "    \n",
    "print(sample.size())\n",
    "print(vocab_size)\n"
   ]
  },
  {
   "cell_type": "markdown",
   "id": "c9a15d7b-7ac5-43c9-92c0-cdfb2a8f0f4c",
   "metadata": {},
   "source": [
    "### model training and best model saving to `.onnx`"
   ]
  },
  {
   "cell_type": "code",
   "execution_count": 7,
   "id": "031be858-1766-4b60-929b-281656e5f37d",
   "metadata": {
    "collapsed": true,
    "jupyter": {
     "outputs_hidden": true
    },
    "tags": []
   },
   "outputs": [
    {
     "name": "stderr",
     "output_type": "stream",
     "text": [
      "INFO:trainer:start training ...\n"
     ]
    },
    {
     "name": "stdout",
     "output_type": "stream",
     "text": [
      "device: cpu\n"
     ]
    },
    {
     "ename": "KeyboardInterrupt",
     "evalue": "",
     "output_type": "error",
     "traceback": [
      "\u001b[0;31m---------------------------------------------------------------------------\u001b[0m",
      "\u001b[0;31mKeyboardInterrupt\u001b[0m                         Traceback (most recent call last)",
      "\u001b[0;32m/tmp/ipykernel_918/3980744412.py\u001b[0m in \u001b[0;36m<module>\u001b[0;34m\u001b[0m\n\u001b[1;32m      7\u001b[0m \u001b[0moptimizer\u001b[0m \u001b[0;34m=\u001b[0m \u001b[0mtorch\u001b[0m\u001b[0;34m.\u001b[0m\u001b[0moptim\u001b[0m\u001b[0;34m.\u001b[0m\u001b[0mAdam\u001b[0m\u001b[0;34m(\u001b[0m\u001b[0mnet\u001b[0m\u001b[0;34m.\u001b[0m\u001b[0mparameters\u001b[0m\u001b[0;34m(\u001b[0m\u001b[0;34m)\u001b[0m\u001b[0;34m,\u001b[0m \u001b[0mlr\u001b[0m\u001b[0;34m=\u001b[0m\u001b[0;36m2e-5\u001b[0m\u001b[0;34m)\u001b[0m\u001b[0;34m\u001b[0m\u001b[0;34m\u001b[0m\u001b[0m\n\u001b[1;32m      8\u001b[0m \u001b[0;34m\u001b[0m\u001b[0m\n\u001b[0;32m----> 9\u001b[0;31m \u001b[0mmodel\u001b[0m \u001b[0;34m=\u001b[0m \u001b[0mtrainer\u001b[0m\u001b[0;34m(\u001b[0m\u001b[0mtrain\u001b[0m\u001b[0;34m,\u001b[0m \u001b[0mval\u001b[0m\u001b[0;34m,\u001b[0m \u001b[0mnet\u001b[0m\u001b[0;34m,\u001b[0m \u001b[0mcriterion\u001b[0m\u001b[0;34m,\u001b[0m \u001b[0moptimizer\u001b[0m\u001b[0;34m,\u001b[0m \u001b[0;36m10\u001b[0m\u001b[0;34m)\u001b[0m\u001b[0;34m\u001b[0m\u001b[0;34m\u001b[0m\u001b[0m\n\u001b[0m",
      "\u001b[0;32m~/my-lab/imdb-classification/work/models/transformers/trainer.py\u001b[0m in \u001b[0;36mtrainer\u001b[0;34m(train, val, model, criterion, optimizer, num_epochs)\u001b[0m\n\u001b[1;32m     31\u001b[0m       \u001b[0mloss\u001b[0m \u001b[0;34m=\u001b[0m \u001b[0mcriterion\u001b[0m\u001b[0;34m(\u001b[0m\u001b[0moutput\u001b[0m\u001b[0;34m,\u001b[0m \u001b[0mlabels\u001b[0m\u001b[0;34m)\u001b[0m\u001b[0;34m\u001b[0m\u001b[0;34m\u001b[0m\u001b[0m\n\u001b[1;32m     32\u001b[0m       \u001b[0mloss\u001b[0m\u001b[0;34m.\u001b[0m\u001b[0mbackward\u001b[0m\u001b[0;34m(\u001b[0m\u001b[0;34m)\u001b[0m\u001b[0;34m\u001b[0m\u001b[0;34m\u001b[0m\u001b[0m\n\u001b[0;32m---> 33\u001b[0;31m       \u001b[0moptimizer\u001b[0m\u001b[0;34m.\u001b[0m\u001b[0mstep\u001b[0m\u001b[0;34m(\u001b[0m\u001b[0;34m)\u001b[0m\u001b[0;34m\u001b[0m\u001b[0;34m\u001b[0m\u001b[0m\n\u001b[0m\u001b[1;32m     34\u001b[0m       \u001b[0mtrain_loss\u001b[0m \u001b[0;34m+=\u001b[0m \u001b[0mloss\u001b[0m\u001b[0;34m.\u001b[0m\u001b[0mitem\u001b[0m\u001b[0;34m(\u001b[0m\u001b[0;34m)\u001b[0m\u001b[0;34m\u001b[0m\u001b[0;34m\u001b[0m\u001b[0m\n\u001b[1;32m     35\u001b[0m \u001b[0;34m\u001b[0m\u001b[0m\n",
      "\u001b[0;32m~/my-lab/imdb-classification/lib/python3.8/site-packages/torch/optim/optimizer.py\u001b[0m in \u001b[0;36mwrapper\u001b[0;34m(*args, **kwargs)\u001b[0m\n\u001b[1;32m     86\u001b[0m                 \u001b[0mprofile_name\u001b[0m \u001b[0;34m=\u001b[0m \u001b[0;34m\"Optimizer.step#{}.step\"\u001b[0m\u001b[0;34m.\u001b[0m\u001b[0mformat\u001b[0m\u001b[0;34m(\u001b[0m\u001b[0mobj\u001b[0m\u001b[0;34m.\u001b[0m\u001b[0m__class__\u001b[0m\u001b[0;34m.\u001b[0m\u001b[0m__name__\u001b[0m\u001b[0;34m)\u001b[0m\u001b[0;34m\u001b[0m\u001b[0;34m\u001b[0m\u001b[0m\n\u001b[1;32m     87\u001b[0m                 \u001b[0;32mwith\u001b[0m \u001b[0mtorch\u001b[0m\u001b[0;34m.\u001b[0m\u001b[0mautograd\u001b[0m\u001b[0;34m.\u001b[0m\u001b[0mprofiler\u001b[0m\u001b[0;34m.\u001b[0m\u001b[0mrecord_function\u001b[0m\u001b[0;34m(\u001b[0m\u001b[0mprofile_name\u001b[0m\u001b[0;34m)\u001b[0m\u001b[0;34m:\u001b[0m\u001b[0;34m\u001b[0m\u001b[0;34m\u001b[0m\u001b[0m\n\u001b[0;32m---> 88\u001b[0;31m                     \u001b[0;32mreturn\u001b[0m \u001b[0mfunc\u001b[0m\u001b[0;34m(\u001b[0m\u001b[0;34m*\u001b[0m\u001b[0margs\u001b[0m\u001b[0;34m,\u001b[0m \u001b[0;34m**\u001b[0m\u001b[0mkwargs\u001b[0m\u001b[0;34m)\u001b[0m\u001b[0;34m\u001b[0m\u001b[0;34m\u001b[0m\u001b[0m\n\u001b[0m\u001b[1;32m     89\u001b[0m             \u001b[0;32mreturn\u001b[0m \u001b[0mwrapper\u001b[0m\u001b[0;34m\u001b[0m\u001b[0;34m\u001b[0m\u001b[0m\n\u001b[1;32m     90\u001b[0m \u001b[0;34m\u001b[0m\u001b[0m\n",
      "\u001b[0;32m~/my-lab/imdb-classification/lib/python3.8/site-packages/torch/autograd/grad_mode.py\u001b[0m in \u001b[0;36mdecorate_context\u001b[0;34m(*args, **kwargs)\u001b[0m\n\u001b[1;32m     26\u001b[0m         \u001b[0;32mdef\u001b[0m \u001b[0mdecorate_context\u001b[0m\u001b[0;34m(\u001b[0m\u001b[0;34m*\u001b[0m\u001b[0margs\u001b[0m\u001b[0;34m,\u001b[0m \u001b[0;34m**\u001b[0m\u001b[0mkwargs\u001b[0m\u001b[0;34m)\u001b[0m\u001b[0;34m:\u001b[0m\u001b[0;34m\u001b[0m\u001b[0;34m\u001b[0m\u001b[0m\n\u001b[1;32m     27\u001b[0m             \u001b[0;32mwith\u001b[0m \u001b[0mself\u001b[0m\u001b[0;34m.\u001b[0m\u001b[0m__class__\u001b[0m\u001b[0;34m(\u001b[0m\u001b[0;34m)\u001b[0m\u001b[0;34m:\u001b[0m\u001b[0;34m\u001b[0m\u001b[0;34m\u001b[0m\u001b[0m\n\u001b[0;32m---> 28\u001b[0;31m                 \u001b[0;32mreturn\u001b[0m \u001b[0mfunc\u001b[0m\u001b[0;34m(\u001b[0m\u001b[0;34m*\u001b[0m\u001b[0margs\u001b[0m\u001b[0;34m,\u001b[0m \u001b[0;34m**\u001b[0m\u001b[0mkwargs\u001b[0m\u001b[0;34m)\u001b[0m\u001b[0;34m\u001b[0m\u001b[0;34m\u001b[0m\u001b[0m\n\u001b[0m\u001b[1;32m     29\u001b[0m         \u001b[0;32mreturn\u001b[0m \u001b[0mcast\u001b[0m\u001b[0;34m(\u001b[0m\u001b[0mF\u001b[0m\u001b[0;34m,\u001b[0m \u001b[0mdecorate_context\u001b[0m\u001b[0;34m)\u001b[0m\u001b[0;34m\u001b[0m\u001b[0;34m\u001b[0m\u001b[0m\n\u001b[1;32m     30\u001b[0m \u001b[0;34m\u001b[0m\u001b[0m\n",
      "\u001b[0;32m~/my-lab/imdb-classification/lib/python3.8/site-packages/torch/optim/adam.py\u001b[0m in \u001b[0;36mstep\u001b[0;34m(self, closure)\u001b[0m\n\u001b[1;32m     89\u001b[0m                         \u001b[0mstate\u001b[0m\u001b[0;34m[\u001b[0m\u001b[0;34m'exp_avg'\u001b[0m\u001b[0;34m]\u001b[0m \u001b[0;34m=\u001b[0m \u001b[0mtorch\u001b[0m\u001b[0;34m.\u001b[0m\u001b[0mzeros_like\u001b[0m\u001b[0;34m(\u001b[0m\u001b[0mp\u001b[0m\u001b[0;34m,\u001b[0m \u001b[0mmemory_format\u001b[0m\u001b[0;34m=\u001b[0m\u001b[0mtorch\u001b[0m\u001b[0;34m.\u001b[0m\u001b[0mpreserve_format\u001b[0m\u001b[0;34m)\u001b[0m\u001b[0;34m\u001b[0m\u001b[0;34m\u001b[0m\u001b[0m\n\u001b[1;32m     90\u001b[0m                         \u001b[0;31m# Exponential moving average of squared gradient values\u001b[0m\u001b[0;34m\u001b[0m\u001b[0;34m\u001b[0m\u001b[0;34m\u001b[0m\u001b[0m\n\u001b[0;32m---> 91\u001b[0;31m                         \u001b[0mstate\u001b[0m\u001b[0;34m[\u001b[0m\u001b[0;34m'exp_avg_sq'\u001b[0m\u001b[0;34m]\u001b[0m \u001b[0;34m=\u001b[0m \u001b[0mtorch\u001b[0m\u001b[0;34m.\u001b[0m\u001b[0mzeros_like\u001b[0m\u001b[0;34m(\u001b[0m\u001b[0mp\u001b[0m\u001b[0;34m,\u001b[0m \u001b[0mmemory_format\u001b[0m\u001b[0;34m=\u001b[0m\u001b[0mtorch\u001b[0m\u001b[0;34m.\u001b[0m\u001b[0mpreserve_format\u001b[0m\u001b[0;34m)\u001b[0m\u001b[0;34m\u001b[0m\u001b[0;34m\u001b[0m\u001b[0m\n\u001b[0m\u001b[1;32m     92\u001b[0m                         \u001b[0;32mif\u001b[0m \u001b[0mgroup\u001b[0m\u001b[0;34m[\u001b[0m\u001b[0;34m'amsgrad'\u001b[0m\u001b[0;34m]\u001b[0m\u001b[0;34m:\u001b[0m\u001b[0;34m\u001b[0m\u001b[0;34m\u001b[0m\u001b[0m\n\u001b[1;32m     93\u001b[0m                             \u001b[0;31m# Maintains max of all exp. moving avg. of sq. grad. values\u001b[0m\u001b[0;34m\u001b[0m\u001b[0;34m\u001b[0m\u001b[0;34m\u001b[0m\u001b[0m\n",
      "\u001b[0;31mKeyboardInterrupt\u001b[0m: "
     ]
    }
   ],
   "source": [
    "net = TransformerClassification(vocab_size=vocab_size,\n",
    "                               n_token=sample.size()[1],\n",
    "                               embedding_dim=300,\n",
    "                               tag_size=2)\n",
    "\n",
    "criterion = torch.nn.CrossEntropyLoss()\n",
    "optimizer = torch.optim.Adam(net.parameters(), lr=2e-5)\n",
    "\n",
    "model = trainer(train, val, net, criterion, optimizer, 10)"
   ]
  },
  {
   "cell_type": "markdown",
   "id": "8c03cf6b-3fc0-46f5-a17e-d3b48a303606",
   "metadata": {},
   "source": [
    "### model evaluate test datasets "
   ]
  },
  {
   "cell_type": "code",
   "execution_count": null,
   "id": "76c36968-ee18-4c4a-a1f7-9909cd038a9a",
   "metadata": {},
   "outputs": [],
   "source": [
    "evaluate(test, model, criterion)"
   ]
  },
  {
   "cell_type": "markdown",
   "id": "38c5f193-33c6-4f19-829f-98896847703b",
   "metadata": {},
   "source": [
    "### visualization **Attetion-weights**"
   ]
  },
  {
   "cell_type": "code",
   "execution_count": 8,
   "id": "ec40f888-88fa-4b27-babf-fd9f8a884966",
   "metadata": {},
   "outputs": [],
   "source": [
    "from visualization_attention import mk_html\n",
    "from IPython.display import HTML"
   ]
  },
  {
   "cell_type": "code",
   "execution_count": 17,
   "id": "5de87ec9-91e0-4875-893d-8ef94eb94f8f",
   "metadata": {},
   "outputs": [],
   "source": [
    "sample = None \n",
    "for r in test:\n",
    "    sample = r \n",
    "    break \n",
    "\n",
    "inputs = sample[\"input_ids\"]\n",
    "with torch.no_grad():\n",
    "    output, attn = model(inputs, attention_flg=True)\n",
    "    \n",
    "preds = output.argmax(-1)\n",
    "word2index = loader.word2index\n",
    "\n",
    "# html_text = mk_html(3, sample, preds, torch.rand(4, 256, 256), word2index)\n",
    "html_text = mk_html(3, sample, preds, attn, word2index)"
   ]
  },
  {
   "cell_type": "code",
   "execution_count": 10,
   "id": "782143c0-f0df-47c2-bfe2-b16b4b67c757",
   "metadata": {},
   "outputs": [
    {
     "data": {
      "text/html": [
       "正解: Negative<br>推論: Positive<br>Attention-layers<br><span style=\"background-color: #FF3A3A\"> <cls></span><span style=\"background-color: #FF7D7D\"> Normally</span><span style=\"background-color: #FF2626\"> ,</span><span style=\"background-color: #FF0E0E\"> I</span><span style=\"background-color: #FFD7D7\"> have</span><span style=\"background-color: #FFADAD\"> no</span><span style=\"background-color: #FFD0D0\"> problem</span><span style=\"background-color: #FF7777\"> with</span><span style=\"background-color: #FF2525\"> a</span><span style=\"background-color: #FF0909\"> movie</span><span style=\"background-color: #FF9E9E\"> or</span><span style=\"background-color: #FF5B5B\"> story</span><span style=\"background-color: #FF0303\"> with</span><span style=\"background-color: #FF0000\"> an</span><span style=\"background-color: #FF6767\"> ending</span><span style=\"background-color: #FF5353\"> that</span><span style=\"background-color: #FF0D0D\"> leaves</span><span style=\"background-color: #FF0C0C\"> you</span><span style=\"background-color: #FF1212\"> wondering</span><span style=\"background-color: #FF4D4D\"> to</span><span style=\"background-color: #FF2B2B\"> puzzle</span><span style=\"background-color: #FF5252\"> out</span><span style=\"background-color: #FF2E2E\"> what</span><span style=\"background-color: #FF3F3F\"> really</span><span style=\"background-color: #FF9696\"> happened</span><span style=\"background-color: #FF9191\"> ,</span><span style=\"background-color: #FFC6C6\"> when</span><span style=\"background-color: #FFBCBC\"> it's</span><span style=\"background-color: #FFA3A3\"> done</span><span style=\"background-color: #FF2323\"> on</span><span style=\"background-color: #FF4141\"> purpose</span><span style=\"background-color: #FFA4A4\"> .</span><span style=\"background-color: #FF6565\"> .</span><span style=\"background-color: #FF1C1C\"> .</span><span style=\"background-color: #FF8989\"> But</span><span style=\"background-color: #FF8D8D\"> this</span><span style=\"background-color: #FFD8D8\"> movie</span><span style=\"background-color: #FF6262\"> really</span><span style=\"background-color: #FF4545\"> feels</span><span style=\"background-color: #FF3939\"> like</span><span style=\"background-color: #FF9D9D\"> they</span><span style=\"background-color: #FFFCFC\"> got</span><span style=\"background-color: #FFBEBE\"> all</span><span style=\"background-color: #FFBCBC\"> but</span><span style=\"background-color: #FFA0A0\"> the</span><span style=\"background-color: #FF4A4A\"> last</span><span style=\"background-color: #FF9A9A\"> 15</span><span style=\"background-color: #FFE4E4\"> minutes</span><span style=\"background-color: #FF9494\"> done</span><span style=\"background-color: #FF2E2E\"> ,</span><span style=\"background-color: #FFCBCB\"> then</span><span style=\"background-color: #FF7171\"> realized</span><span style=\"background-color: #FFF7F7\"> they</span><span style=\"background-color: #FFBABA\"> had</span><span style=\"background-color: #FF5757\"> $5</span><span style=\"background-color: #FF8C8C\"> left</span><span style=\"background-color: #FF4F4F\"> to</span><span style=\"background-color: #FFF9F9\"> finish</span><span style=\"background-color: #FFC7C7\"> on</span><span style=\"background-color: #FF4848\"> .</span><span style=\"background-color: #FFEDED\"> .</span><span style=\"background-color: #FF7474\"> .</span><span style=\"background-color: #FF4C4C\"> I</span><span style=\"background-color: #FFCBCB\"> saw</span><span style=\"background-color: #FF1717\"> it</span><span style=\"background-color: #FFA5A5\"> on</span><span style=\"background-color: #FF9292\"> TBS</span><span style=\"background-color: #FF8686\"> .</span><span style=\"background-color: #FF7C7C\"> .</span><span style=\"background-color: #FFFAFA\"> .</span><span style=\"background-color: #FF0707\"> I</span><span style=\"background-color: #FF5757\"> recommend</span><span style=\"background-color: #FF1919\"> you</span><span style=\"background-color: #FF7575\"> not</span><span style=\"background-color: #FF4343\"> spend</span><span style=\"background-color: #FF3636\"> money</span><span style=\"background-color: #FF7373\"> on</span><span style=\"background-color: #FFB8B8\"> it</span><span style=\"background-color: #FF8484\"> either</span><span style=\"background-color: #FF8C8C\"> .</span><span style=\"background-color: #FF0404\"> If</span><span style=\"background-color: #FF7B7B\"> you</span><span style=\"background-color: #FFDEDE\"> catch</span><span style=\"background-color: #FFF3F3\"> it</span><span style=\"background-color: #FF1818\"> on</span><span style=\"background-color: #FF0000\"> TV</span><span style=\"background-color: #FFE8E8\"> ,</span><span style=\"background-color: #FF2B2B\"> watch</span><span style=\"background-color: #FF2828\"> all</span><span style=\"background-color: #FF3131\"> but</span><span style=\"background-color: #FF6A6A\"> the</span><span style=\"background-color: #FF4848\"> last</span><span style=\"background-color: #FFABAB\"> 15</span><span style=\"background-color: #FF6B6B\"> minutes</span><span style=\"background-color: #FFF8F8\"> ,</span><span style=\"background-color: #FF5D5D\"> then</span><span style=\"background-color: #FF9999\"> walk</span><span style=\"background-color: #FFDCDC\"> away</span><span style=\"background-color: #FF4F4F\"> and</span><span style=\"background-color: #FF3C3C\"> make</span><span style=\"background-color: #FFE0E0\"> your</span><span style=\"background-color: #FF2A2A\"> own</span><span style=\"background-color: #FFF2F2\"> ending</span><span style=\"background-color: #FFC0C0\"> in</span><span style=\"background-color: #FFD4D4\"> your</span><span style=\"background-color: #FF7676\"> mind</span><span style=\"background-color: #FF6969\"> .</span><span style=\"background-color: #FF4E4E\"> Really</span><span style=\"background-color: #FFD6D6\"> ,</span><span style=\"background-color: #FFEEEE\"> the</span><span style=\"background-color: #FFAAAA\"> movie</span><span style=\"background-color: #FFE3E3\"> would</span><span style=\"background-color: #FFD0D0\"> have</span><span style=\"background-color: #FF3535\"> been</span><span style=\"background-color: #FF1B1B\"> better</span><span style=\"background-color: #FF2929\"> if</span><span style=\"background-color: #FFDCDC\"> they</span><span style=\"background-color: #FFC3C3\"> had</span><span style=\"background-color: #FF1A1A\"> simply</span><span style=\"background-color: #FFB5B5\"> got</span><span style=\"background-color: #FFFDFD\"> away</span><span style=\"background-color: #FF0000\"> ,</span><span style=\"background-color: #FF5252\"> and</span><span style=\"background-color: #FF4F4F\"> come</span><span style=\"background-color: #FF6B6B\"> back</span><span style=\"background-color: #FF7777\"> with</span><span style=\"background-color: #FFD0D0\"> the</span><span style=\"background-color: #FF9595\"> State</span><span style=\"background-color: #FF0A0A\"> Poice</span><span style=\"background-color: #FF6E6E\"> of</span><span style=\"background-color: #FFF2F2\"> Feds</span><span style=\"background-color: #FFF3F3\"> only</span><span style=\"background-color: #FFC0C0\"> to</span><span style=\"background-color: #FFB6B6\"> find</span><span style=\"background-color: #FF4747\"> that</span><span style=\"background-color: #FF3939\"> the</span><span style=\"background-color: #FF5757\"> town</span><span style=\"background-color: #FFDFDF\"> and</span><span style=\"background-color: #FF5757\"> the</span><span style=\"background-color: #FF6868\"> car</span><span style=\"background-color: #FF0B0B\"> graveyard</span><span style=\"background-color: #FF6969\"> was</span><span style=\"background-color: #FF4B4B\"> gone</span><span style=\"background-color: #FF3333\"> ,</span><span style=\"background-color: #FFB1B1\"> and</span><span style=\"background-color: #FFCBCB\"> by</span><span style=\"background-color: #FF4646\"> all</span><span style=\"background-color: #FFE7E7\"> appearances</span><span style=\"background-color: #FF7878\"> had</span><span style=\"background-color: #FFABAB\"> never</span><span style=\"background-color: #FF5A5A\"> been</span><span style=\"background-color: #FFF1F1\"> there</span><span style=\"background-color: #FFE1E1\"> .</span><span style=\"background-color: #FF9696\"> .</span><span style=\"background-color: #FF1515\"> .</span><span style=\"background-color: #FF9898\"> \"Wish</span><span style=\"background-color: #FF2A2A\"> I</span><span style=\"background-color: #FF7474\"> had</span><span style=\"background-color: #FF6A6A\"> more</span><span style=\"background-color: #FF4242\"> thumbs</span><span style=\"background-color: #FFC3C3\"> ,</span><span style=\"background-color: #FFB4B4\"> so</span><span style=\"background-color: #FF8181\"> I</span><span style=\"background-color: #FF5C5C\"> could</span><span style=\"background-color: #FFEEEE\"> give</span><span style=\"background-color: #FF1B1B\"> that</span><span style=\"background-color: #FF2C2C\"> movie</span><span style=\"background-color: #FFCDCD\"> 4</span><span style=\"background-color: #FFF7F7\"> thumbs</span><span style=\"background-color: #FF4848\"> down!\"</span><span style=\"background-color: #FF7979\"> <pad></span><span style=\"background-color: #FF2A2A\"> <pad></span><span style=\"background-color: #FFE9E9\"> <pad></span><span style=\"background-color: #FFEAEA\"> <pad></span><span style=\"background-color: #FF9595\"> <pad></span><span style=\"background-color: #FF5B5B\"> <pad></span><span style=\"background-color: #FFC4C4\"> <pad></span><span style=\"background-color: #FFD8D8\"> <pad></span><span style=\"background-color: #FF4747\"> <pad></span><span style=\"background-color: #FF4A4A\"> <pad></span><span style=\"background-color: #FFA8A8\"> <pad></span><span style=\"background-color: #FF8282\"> <pad></span><span style=\"background-color: #FFEAEA\"> <pad></span><span style=\"background-color: #FF9999\"> <pad></span><span style=\"background-color: #FF6B6B\"> <pad></span><span style=\"background-color: #FF2B2B\"> <pad></span><span style=\"background-color: #FF5656\"> <pad></span><span style=\"background-color: #FFADAD\"> <pad></span><span style=\"background-color: #FFDADA\"> <pad></span><span style=\"background-color: #FF7A7A\"> <pad></span><span style=\"background-color: #FF3B3B\"> <pad></span><span style=\"background-color: #FFC5C5\"> <pad></span><span style=\"background-color: #FFAEAE\"> <pad></span><span style=\"background-color: #FF4949\"> <pad></span><span style=\"background-color: #FF1212\"> <pad></span><span style=\"background-color: #FF7070\"> <pad></span><span style=\"background-color: #FF9393\"> <pad></span><span style=\"background-color: #FFDADA\"> <pad></span><span style=\"background-color: #FF9F9F\"> <pad></span><span style=\"background-color: #FF5959\"> <pad></span><span style=\"background-color: #FF3939\"> <pad></span><span style=\"background-color: #FF3A3A\"> <pad></span><span style=\"background-color: #FFF9F9\"> <pad></span><span style=\"background-color: #FFBFBF\"> <pad></span><span style=\"background-color: #FF0D0D\"> <pad></span><span style=\"background-color: #FFF3F3\"> <pad></span><span style=\"background-color: #FFFBFB\"> <pad></span><span style=\"background-color: #FFDDDD\"> <pad></span><span style=\"background-color: #FF7E7E\"> <pad></span><span style=\"background-color: #FF4343\"> <pad></span><span style=\"background-color: #FF2C2C\"> <pad></span><span style=\"background-color: #FF8E8E\"> <pad></span><span style=\"background-color: #FF6C6C\"> <pad></span><span style=\"background-color: #FFB1B1\"> <pad></span><span style=\"background-color: #FFADAD\"> <pad></span><span style=\"background-color: #FF4D4D\"> <pad></span><span style=\"background-color: #FF8888\"> <pad></span><span style=\"background-color: #FF3232\"> <pad></span><span style=\"background-color: #FF9E9E\"> <pad></span><span style=\"background-color: #FF3535\"> <pad></span><span style=\"background-color: #FF2F2F\"> <pad></span><span style=\"background-color: #FF1E1E\"> <pad></span><span style=\"background-color: #FF2727\"> <pad></span><span style=\"background-color: #FF4949\"> <pad></span><span style=\"background-color: #FF6262\"> <pad></span><span style=\"background-color: #FF4D4D\"> <pad></span><span style=\"background-color: #FFC2C2\"> <pad></span><span style=\"background-color: #FF3C3C\"> <pad></span><span style=\"background-color: #FF9090\"> <pad></span><span style=\"background-color: #FFDADA\"> <pad></span><span style=\"background-color: #FF7A7A\"> <pad></span><span style=\"background-color: #FFE7E7\"> <pad></span><span style=\"background-color: #FF6969\"> <pad></span><span style=\"background-color: #FF4141\"> <pad></span><span style=\"background-color: #FF3636\"> <pad></span><span style=\"background-color: #FF3737\"> <pad></span><span style=\"background-color: #FFA6A6\"> <pad></span><span style=\"background-color: #FF9999\"> <pad></span><span style=\"background-color: #FFC3C3\"> <pad></span><span style=\"background-color: #FF3838\"> <pad></span><span style=\"background-color: #FFFEFE\"> <pad></span><span style=\"background-color: #FF7171\"> <pad></span><span style=\"background-color: #FFA7A7\"> <pad></span><span style=\"background-color: #FFBDBD\"> <pad></span><span style=\"background-color: #FF8181\"> <pad></span><span style=\"background-color: #FF4747\"> <pad></span><span style=\"background-color: #FF3535\"> <pad></span><span style=\"background-color: #FFACAC\"> <pad></span><span style=\"background-color: #FF4545\"> <pad></span><span style=\"background-color: #FF4747\"> <pad></span><span style=\"background-color: #FF7F7F\"> <pad></span><span style=\"background-color: #FF4E4E\"> <pad></span><span style=\"background-color: #FF4C4C\"> <pad></span><span style=\"background-color: #FFCDCD\"> <pad></span><span style=\"background-color: #FFB8B8\"> <pad></span><span style=\"background-color: #FF7F7F\"> <pad></span><br>"
      ],
      "text/plain": [
       "<IPython.core.display.HTML object>"
      ]
     },
     "execution_count": 10,
     "metadata": {},
     "output_type": "execute_result"
    }
   ],
   "source": [
    "HTML(html_text)"
   ]
  },
  {
   "cell_type": "markdown",
   "id": "f4ab56df-e92b-4926-862b-bbbfd0799d16",
   "metadata": {},
   "source": [
    "### inferences "
   ]
  },
  {
   "cell_type": "code",
   "execution_count": 11,
   "id": "0df15541-3557-4c0d-945f-da5d99793fc7",
   "metadata": {},
   "outputs": [],
   "source": [
    "from preprocessing.dump_preprocessing import load_dump_prep"
   ]
  },
  {
   "cell_type": "code",
   "execution_count": 12,
   "id": "7a4567a2-537f-4b72-b9da-a4924b5bb8f6",
   "metadata": {},
   "outputs": [
    {
     "data": {
      "text/plain": [
       "{'0': 'Negative', '1': 'Positive'}"
      ]
     },
     "execution_count": 12,
     "metadata": {},
     "output_type": "execute_result"
    }
   ],
   "source": [
    "import json \n",
    "with open(\"./utils/data/labels.json\", \"r\") as f:\n",
    "    labels = json.load(f)\n",
    "labels"
   ]
  },
  {
   "cell_type": "code",
   "execution_count": 14,
   "id": "5d5599fa-e14f-4e64-bbe7-7038eb8fccec",
   "metadata": {},
   "outputs": [
    {
     "name": "stdout",
     "output_type": "stream",
     "text": [
      "input text: hello world\n",
      "predict: Positive\n"
     ]
    }
   ],
   "source": [
    "transform = load_dump_prep()\n",
    "dummy_text = \"hello world\"\n",
    "dummy_inputs = transform.transform(dummy_text)\n",
    "\n",
    "with torch.no_grad():\n",
    "    pred = net(dummy_inputs)\n",
    "    \n",
    "pred = pred.argmax(-1).item()\n",
    "pred_str = labels[str(pred)]\n",
    "    \n",
    "print(f\"input text: {dummy_text}\")\n",
    "print(f\"predict: {pred_str}\")"
   ]
  }
 ],
 "metadata": {
  "kernelspec": {
   "display_name": "Python 3 (ipykernel)",
   "language": "python",
   "name": "python3"
  },
  "language_info": {
   "codemirror_mode": {
    "name": "ipython",
    "version": 3
   },
   "file_extension": ".py",
   "mimetype": "text/x-python",
   "name": "python",
   "nbconvert_exporter": "python",
   "pygments_lexer": "ipython3",
   "version": "3.8.5"
  }
 },
 "nbformat": 4,
 "nbformat_minor": 5
}
