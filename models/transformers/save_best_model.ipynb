{
 "cells": [
  {
   "cell_type": "code",
   "execution_count": 1,
   "id": "ce807c87-906b-426a-b7b6-743e467e92f0",
   "metadata": {},
   "outputs": [],
   "source": [
    "from load_data import CreateDataLoader \n",
    "from networks.embedding_net import EmbedderAndPositionEncoder\n",
    "from networks.attention_net import TransformerBlock\n",
    "from networks.classifier_net import Classification \n",
    "from networks.transformer_net import TransformerClassification\n",
    "import torch\n",
    "from trainer import trainer \n",
    "from evaluate import evaluate "
   ]
  },
  {
   "cell_type": "markdown",
   "id": "2cb6d280-45f3-4573-ba9a-c05adfe1914b",
   "metadata": {},
   "source": [
    "### load dataset "
   ]
  },
  {
   "cell_type": "code",
   "execution_count": 2,
   "id": "b96f7bcb-194a-4f8b-a279-41a561e5416f",
   "metadata": {},
   "outputs": [
    {
     "name": "stdout",
     "output_type": "stream",
     "text": [
      "torch.Size([32, 256])\n",
      "121855\n"
     ]
    }
   ],
   "source": [
    "loader = CreateDataLoader()\n",
    "train, val, test = loader.make_loader()\n",
    "vocab_size = loader.vocab_size\n",
    "\n",
    "sample = None \n",
    "for r in train:\n",
    "    sample = r[\"input_ids\"]\n",
    "    break \n",
    "    \n",
    "print(sample.size())\n",
    "print(vocab_size)\n"
   ]
  },
  {
   "cell_type": "markdown",
   "id": "c9a15d7b-7ac5-43c9-92c0-cdfb2a8f0f4c",
   "metadata": {},
   "source": [
    "### model training and best model saving to `.onnx`"
   ]
  },
  {
   "cell_type": "code",
   "execution_count": 3,
   "id": "031be858-1766-4b60-929b-281656e5f37d",
   "metadata": {
    "collapsed": true,
    "jupyter": {
     "outputs_hidden": true
    },
    "tags": []
   },
   "outputs": [
    {
     "name": "stdout",
     "output_type": "stream",
     "text": [
      "device: cpu\n"
     ]
    },
    {
     "ename": "KeyboardInterrupt",
     "evalue": "",
     "output_type": "error",
     "traceback": [
      "\u001b[0;31m---------------------------------------------------------------------------\u001b[0m",
      "\u001b[0;31mKeyboardInterrupt\u001b[0m                         Traceback (most recent call last)",
      "\u001b[0;32m/tmp/ipykernel_336/3980744412.py\u001b[0m in \u001b[0;36m<module>\u001b[0;34m\u001b[0m\n\u001b[1;32m      7\u001b[0m \u001b[0moptimizer\u001b[0m \u001b[0;34m=\u001b[0m \u001b[0mtorch\u001b[0m\u001b[0;34m.\u001b[0m\u001b[0moptim\u001b[0m\u001b[0;34m.\u001b[0m\u001b[0mAdam\u001b[0m\u001b[0;34m(\u001b[0m\u001b[0mnet\u001b[0m\u001b[0;34m.\u001b[0m\u001b[0mparameters\u001b[0m\u001b[0;34m(\u001b[0m\u001b[0;34m)\u001b[0m\u001b[0;34m,\u001b[0m \u001b[0mlr\u001b[0m\u001b[0;34m=\u001b[0m\u001b[0;36m2e-5\u001b[0m\u001b[0;34m)\u001b[0m\u001b[0;34m\u001b[0m\u001b[0;34m\u001b[0m\u001b[0m\n\u001b[1;32m      8\u001b[0m \u001b[0;34m\u001b[0m\u001b[0m\n\u001b[0;32m----> 9\u001b[0;31m \u001b[0mmodel\u001b[0m \u001b[0;34m=\u001b[0m \u001b[0mtrainer\u001b[0m\u001b[0;34m(\u001b[0m\u001b[0mtrain\u001b[0m\u001b[0;34m,\u001b[0m \u001b[0mval\u001b[0m\u001b[0;34m,\u001b[0m \u001b[0mnet\u001b[0m\u001b[0;34m,\u001b[0m \u001b[0mcriterion\u001b[0m\u001b[0;34m,\u001b[0m \u001b[0moptimizer\u001b[0m\u001b[0;34m,\u001b[0m \u001b[0;36m10\u001b[0m\u001b[0;34m)\u001b[0m\u001b[0;34m\u001b[0m\u001b[0;34m\u001b[0m\u001b[0m\n\u001b[0m",
      "\u001b[0;32m~/my-lab/imdb-classification/work/models/transformers/trainer.py\u001b[0m in \u001b[0;36mtrainer\u001b[0;34m(train, val, model, criterion, optimizer, num_epochs)\u001b[0m\n\u001b[1;32m     20\u001b[0m       \u001b[0moutput\u001b[0m \u001b[0;34m=\u001b[0m \u001b[0mmodel\u001b[0m\u001b[0;34m(\u001b[0m\u001b[0minputs\u001b[0m\u001b[0;34m,\u001b[0m \u001b[0mattention_flg\u001b[0m\u001b[0;34m=\u001b[0m\u001b[0;32mFalse\u001b[0m\u001b[0;34m)\u001b[0m\u001b[0;34m\u001b[0m\u001b[0;34m\u001b[0m\u001b[0m\n\u001b[1;32m     21\u001b[0m       \u001b[0mloss\u001b[0m \u001b[0;34m=\u001b[0m \u001b[0mcriterion\u001b[0m\u001b[0;34m(\u001b[0m\u001b[0moutput\u001b[0m\u001b[0;34m,\u001b[0m \u001b[0mlabels\u001b[0m\u001b[0;34m)\u001b[0m\u001b[0;34m\u001b[0m\u001b[0;34m\u001b[0m\u001b[0m\n\u001b[0;32m---> 22\u001b[0;31m       \u001b[0mloss\u001b[0m\u001b[0;34m.\u001b[0m\u001b[0mbackward\u001b[0m\u001b[0;34m(\u001b[0m\u001b[0;34m)\u001b[0m\u001b[0;34m\u001b[0m\u001b[0;34m\u001b[0m\u001b[0m\n\u001b[0m\u001b[1;32m     23\u001b[0m       \u001b[0moptimizer\u001b[0m\u001b[0;34m.\u001b[0m\u001b[0mstep\u001b[0m\u001b[0;34m(\u001b[0m\u001b[0;34m)\u001b[0m\u001b[0;34m\u001b[0m\u001b[0;34m\u001b[0m\u001b[0m\n\u001b[1;32m     24\u001b[0m       \u001b[0mtrain_loss\u001b[0m \u001b[0;34m+=\u001b[0m \u001b[0mloss\u001b[0m\u001b[0;34m.\u001b[0m\u001b[0mitem\u001b[0m\u001b[0;34m(\u001b[0m\u001b[0;34m)\u001b[0m\u001b[0;34m\u001b[0m\u001b[0;34m\u001b[0m\u001b[0m\n",
      "\u001b[0;32m~/my-lab/imdb-classification/lib/python3.8/site-packages/torch/_tensor.py\u001b[0m in \u001b[0;36mbackward\u001b[0;34m(self, gradient, retain_graph, create_graph, inputs)\u001b[0m\n\u001b[1;32m    253\u001b[0m                 \u001b[0mcreate_graph\u001b[0m\u001b[0;34m=\u001b[0m\u001b[0mcreate_graph\u001b[0m\u001b[0;34m,\u001b[0m\u001b[0;34m\u001b[0m\u001b[0;34m\u001b[0m\u001b[0m\n\u001b[1;32m    254\u001b[0m                 inputs=inputs)\n\u001b[0;32m--> 255\u001b[0;31m         \u001b[0mtorch\u001b[0m\u001b[0;34m.\u001b[0m\u001b[0mautograd\u001b[0m\u001b[0;34m.\u001b[0m\u001b[0mbackward\u001b[0m\u001b[0;34m(\u001b[0m\u001b[0mself\u001b[0m\u001b[0;34m,\u001b[0m \u001b[0mgradient\u001b[0m\u001b[0;34m,\u001b[0m \u001b[0mretain_graph\u001b[0m\u001b[0;34m,\u001b[0m \u001b[0mcreate_graph\u001b[0m\u001b[0;34m,\u001b[0m \u001b[0minputs\u001b[0m\u001b[0;34m=\u001b[0m\u001b[0minputs\u001b[0m\u001b[0;34m)\u001b[0m\u001b[0;34m\u001b[0m\u001b[0;34m\u001b[0m\u001b[0m\n\u001b[0m\u001b[1;32m    256\u001b[0m \u001b[0;34m\u001b[0m\u001b[0m\n\u001b[1;32m    257\u001b[0m     \u001b[0;32mdef\u001b[0m \u001b[0mregister_hook\u001b[0m\u001b[0;34m(\u001b[0m\u001b[0mself\u001b[0m\u001b[0;34m,\u001b[0m \u001b[0mhook\u001b[0m\u001b[0;34m)\u001b[0m\u001b[0;34m:\u001b[0m\u001b[0;34m\u001b[0m\u001b[0;34m\u001b[0m\u001b[0m\n",
      "\u001b[0;32m~/my-lab/imdb-classification/lib/python3.8/site-packages/torch/autograd/__init__.py\u001b[0m in \u001b[0;36mbackward\u001b[0;34m(tensors, grad_tensors, retain_graph, create_graph, grad_variables, inputs)\u001b[0m\n\u001b[1;32m    145\u001b[0m         \u001b[0mretain_graph\u001b[0m \u001b[0;34m=\u001b[0m \u001b[0mcreate_graph\u001b[0m\u001b[0;34m\u001b[0m\u001b[0;34m\u001b[0m\u001b[0m\n\u001b[1;32m    146\u001b[0m \u001b[0;34m\u001b[0m\u001b[0m\n\u001b[0;32m--> 147\u001b[0;31m     Variable._execution_engine.run_backward(\n\u001b[0m\u001b[1;32m    148\u001b[0m         \u001b[0mtensors\u001b[0m\u001b[0;34m,\u001b[0m \u001b[0mgrad_tensors_\u001b[0m\u001b[0;34m,\u001b[0m \u001b[0mretain_graph\u001b[0m\u001b[0;34m,\u001b[0m \u001b[0mcreate_graph\u001b[0m\u001b[0;34m,\u001b[0m \u001b[0minputs\u001b[0m\u001b[0;34m,\u001b[0m\u001b[0;34m\u001b[0m\u001b[0;34m\u001b[0m\u001b[0m\n\u001b[1;32m    149\u001b[0m         allow_unreachable=True, accumulate_grad=True)  # allow_unreachable flag\n",
      "\u001b[0;31mKeyboardInterrupt\u001b[0m: "
     ]
    }
   ],
   "source": [
    "net = TransformerClassification(vocab_size=vocab_size,\n",
    "                               n_token=sample.size()[1],\n",
    "                               embedding_dim=300,\n",
    "                               tag_size=2)\n",
    "\n",
    "criterion = torch.nn.CrossEntropyLoss()\n",
    "optimizer = torch.optim.Adam(net.parameters(), lr=2e-5)\n",
    "\n",
    "model = trainer(train, val, net, criterion, optimizer, 10)"
   ]
  },
  {
   "cell_type": "markdown",
   "id": "8c03cf6b-3fc0-46f5-a17e-d3b48a303606",
   "metadata": {},
   "source": [
    "### model evaluate test datasets "
   ]
  },
  {
   "cell_type": "code",
   "execution_count": null,
   "id": "76c36968-ee18-4c4a-a1f7-9909cd038a9a",
   "metadata": {},
   "outputs": [],
   "source": [
    "evaluate(test, model, criterion)"
   ]
  },
  {
   "cell_type": "markdown",
   "id": "38c5f193-33c6-4f19-829f-98896847703b",
   "metadata": {},
   "source": [
    "### visualization **Attetion-weights**"
   ]
  },
  {
   "cell_type": "code",
   "execution_count": 4,
   "id": "ec40f888-88fa-4b27-babf-fd9f8a884966",
   "metadata": {},
   "outputs": [],
   "source": [
    "from visualization_attention import mk_html\n",
    "from IPython.display import HTML"
   ]
  },
  {
   "cell_type": "code",
   "execution_count": 9,
   "id": "5de87ec9-91e0-4875-893d-8ef94eb94f8f",
   "metadata": {},
   "outputs": [],
   "source": [
    "sample = None \n",
    "for r in test:\n",
    "    sample = r \n",
    "    break \n",
    "\n",
    "inputs = sample[\"input_ids\"]\n",
    "with torch.no_grad():\n",
    "    output, attn = net(inputs, attention_flg=True)\n",
    "    \n",
    "preds = output.argmax(-1)\n",
    "word2index = loader.word2index\n",
    "\n",
    "html_text = mk_html(3, sample, preds, torch.rand(4, 256, 256), word2index)"
   ]
  },
  {
   "cell_type": "code",
   "execution_count": 10,
   "id": "782143c0-f0df-47c2-bfe2-b16b4b67c757",
   "metadata": {},
   "outputs": [
    {
     "data": {
      "text/html": [
       "正解: Positive<br>推論: PositiveAttention-layers<br><span style=\"background-color: #FF9B9B\"> <cls></span><span style=\"background-color: #FF7C7C\"> \"My</span><span style=\"background-color: #FFC9C9\"> child</span><span style=\"background-color: #FFEDED\"> ,</span><span style=\"background-color: #FF1111\"> my</span><span style=\"background-color: #FF1313\"> sister</span><span style=\"background-color: #FFBEBE\"> ,</span><span style=\"background-color: #FFACAC\"> dream</span><span style=\"background-color: #FF6C6C\"> How</span><span style=\"background-color: #FF2727\"> sweet</span><span style=\"background-color: #FF5353\"> all</span><span style=\"background-color: #FFB2B2\"> things</span><span style=\"background-color: #FFF8F8\"> would</span><span style=\"background-color: #FF6C6C\"> seem</span><span style=\"background-color: #FF7171\"> Were</span><span style=\"background-color: #FF3737\"> we</span><span style=\"background-color: #FFBCBC\"> in</span><span style=\"background-color: #FF7979\"> that</span><span style=\"background-color: #FF0101\"> kind</span><span style=\"background-color: #FF5252\"> land</span><span style=\"background-color: #FFB9B9\"> to</span><span style=\"background-color: #FFFBFB\"> live</span><span style=\"background-color: #FF6A6A\"> together</span><span style=\"background-color: #FF3535\"> ,</span><span style=\"background-color: #FF8282\"> And</span><span style=\"background-color: #FF7777\"> there</span><span style=\"background-color: #FF2F2F\"> love</span><span style=\"background-color: #FFBDBD\"> slow</span><span style=\"background-color: #FF1A1A\"> and</span><span style=\"background-color: #FFB7B7\"> long</span><span style=\"background-color: #FF1010\"> ,</span><span style=\"background-color: #FF4A4A\"> There</span><span style=\"background-color: #FF3131\"> love</span><span style=\"background-color: #FF4343\"> and</span><span style=\"background-color: #FF4343\"> die</span><span style=\"background-color: #FF6D6D\"> among</span><span style=\"background-color: #FFBDBD\"> Those</span><span style=\"background-color: #FFBDBD\"> scenes</span><span style=\"background-color: #FFE4E4\"> that</span><span style=\"background-color: #FFA5A5\"> image</span><span style=\"background-color: #FFEAEA\"> you</span><span style=\"background-color: #FFC2C2\"> ,</span><span style=\"background-color: #FF2F2F\"> that</span><span style=\"background-color: #FF8686\"> sumptuous</span><span style=\"background-color: #FFA9A9\"> weather</span><span style=\"background-color: #FF1010\"> .</span><span style=\"background-color: #FF9393\"> \"Charles</span><span style=\"background-color: #FF3535\"> Baudelaire</span><span style=\"background-color: #FF7474\"> Based</span><span style=\"background-color: #FF2D2D\"> on</span><span style=\"background-color: #FF5252\"> the</span><span style=\"background-color: #FF6666\"> novel</span><span style=\"background-color: #FFD9D9\"> by</span><span style=\"background-color: #FFE6E6\"> Elizabeth</span><span style=\"background-color: #FF4E4E\"> Von</span><span style=\"background-color: #FF7676\"> Arnim</span><span style=\"background-color: #FF5656\"> ,</span><span style=\"background-color: #FF4444\"> \"Enachanted</span><span style=\"background-color: #FFCDCD\"> April\"</span><span style=\"background-color: #FF0B0B\"> can</span><span style=\"background-color: #FF3737\"> be</span><span style=\"background-color: #FF3838\"> described</span><span style=\"background-color: #FFC1C1\"> in</span><span style=\"background-color: #FF2020\"> one</span><span style=\"background-color: #FFC1C1\"> sentence</span><span style=\"background-color: #FFE4E4\"> </span><span style=\"background-color: #FF4343\"> it</span><span style=\"background-color: #FFB8B8\"> takes</span><span style=\"background-color: #FF5151\"> place</span><span style=\"background-color: #FFF9F9\"> in</span><span style=\"background-color: #FF5D5D\"> the</span><span style=\"background-color: #FFEBEB\"> early</span><span style=\"background-color: #FF3535\"> 1920s</span><span style=\"background-color: #FF1919\"> when</span><span style=\"background-color: #FFCDCD\"> four</span><span style=\"background-color: #FF6666\"> London</span><span style=\"background-color: #FF5F5F\"> women</span><span style=\"background-color: #FFE7E7\"> ,</span><span style=\"background-color: #FF9F9F\"> four</span><span style=\"background-color: #FF9797\"> strangers</span><span style=\"background-color: #FF6464\"> decide</span><span style=\"background-color: #FFC9C9\"> to</span><span style=\"background-color: #FF4343\"> rent</span><span style=\"background-color: #FFF9F9\"> a</span><span style=\"background-color: #FF8989\"> castle</span><span style=\"background-color: #FF2C2C\"> in</span><span style=\"background-color: #FF3535\"> Italy</span><span style=\"background-color: #FFE7E7\"> for</span><span style=\"background-color: #FF9999\"> the</span><span style=\"background-color: #FFB6B6\"> month</span><span style=\"background-color: #FFBCBC\"> of</span><span style=\"background-color: #FF5C5C\"> April</span><span style=\"background-color: #FFE9E9\"> .</span><span style=\"background-color: #FF1616\"> It</span><span style=\"background-color: #FF8484\"> is</span><span style=\"background-color: #FF3939\"> the</span><span style=\"background-color: #FFFEFE\"> correct</span><span style=\"background-color: #FF7474\"> description</span><span style=\"background-color: #FF3131\"> but</span><span style=\"background-color: #FF2424\"> it</span><span style=\"background-color: #FF2F2F\"> will</span><span style=\"background-color: #FF7777\"> not</span><span style=\"background-color: #FF3434\"> prepare</span><span style=\"background-color: #FF5252\"> you</span><span style=\"background-color: #FF9595\"> for</span><span style=\"background-color: #FFB2B2\"> the</span><span style=\"background-color: #FF6868\"> fact</span><span style=\"background-color: #FF4D4D\"> that</span><span style=\"background-color: #FF6767\"> \"Enchanted</span><span style=\"background-color: #FFE2E2\"> April\"</span><span style=\"background-color: #FF0C0C\"> -</span><span style=\"background-color: #FFC1C1\"> an</span><span style=\"background-color: #FF7A7A\"> ultimate</span><span style=\"background-color: #FF1010\"> \"feel</span><span style=\"background-color: #FF0101\"> good\"</span><span style=\"background-color: #FF8282\"> movie</span><span style=\"background-color: #FF9191\"> is</span><span style=\"background-color: #FFDADA\"> perfection</span><span style=\"background-color: #FF0404\"> of</span><span style=\"background-color: #FF3131\"> its</span><span style=\"background-color: #FF1F1F\"> genre</span><span style=\"background-color: #FF9999\"> .</span><span style=\"background-color: #FF0B0B\"> Lovely</span><span style=\"background-color: #FF9696\"> and</span><span style=\"background-color: #FFC6C6\"> sunny</span><span style=\"background-color: #FF5050\"> ,</span><span style=\"background-color: #FF2626\"> tender</span><span style=\"background-color: #FF6A6A\"> and</span><span style=\"background-color: #FF8181\"> peaceful</span><span style=\"background-color: #FF4F4F\"> ,</span><span style=\"background-color: #FF1919\"> kind</span><span style=\"background-color: #FF4848\"> and</span><span style=\"background-color: #FF9292\"> magical</span><span style=\"background-color: #FF2525\"> ,</span><span style=\"background-color: #FF6060\"> it</span><span style=\"background-color: #FFFDFD\"> is</span><span style=\"background-color: #FF9797\"> like</span><span style=\"background-color: #FFB0B0\"> a</span><span style=\"background-color: #FF8686\"> ray</span><span style=\"background-color: #FF9393\"> of</span><span style=\"background-color: #FF0D0D\"> sun</span><span style=\"background-color: #FF0D0D\"> on</span><span style=\"background-color: #FF2828\"> your</span><span style=\"background-color: #FF6C6C\"> face</span><span style=\"background-color: #FF5F5F\"> during</span><span style=\"background-color: #FFEEEE\"> springtime</span><span style=\"background-color: #FFF2F2\"> when</span><span style=\"background-color: #FF3232\"> you</span><span style=\"background-color: #FF5A5A\"> want</span><span style=\"background-color: #FF9F9F\"> to</span><span style=\"background-color: #FFB2B2\"> close</span><span style=\"background-color: #FF1A1A\"> your</span><span style=\"background-color: #FFDBDB\"> eyes</span><span style=\"background-color: #FF8888\"> and</span><span style=\"background-color: #FFD2D2\"> smile</span><span style=\"background-color: #FF5353\"> and</span><span style=\"background-color: #FF0404\"> stop</span><span style=\"background-color: #FF6161\"> this</span><span style=\"background-color: #FF9E9E\"> moment</span><span style=\"background-color: #FFC1C1\"> of</span><span style=\"background-color: #FFCECE\"> serene</span><span style=\"background-color: #FF3030\"> happiness</span><span style=\"background-color: #FF4C4C\"> and</span><span style=\"background-color: #FF2B2B\"> cherish</span><span style=\"background-color: #FFCFCF\"> it</span><span style=\"background-color: #FFD7D7\"> forever</span><span style=\"background-color: #FF3131\"> .</span><span style=\"background-color: #FFF0F0\"> This</span><span style=\"background-color: #FF0B0B\"> is</span><span style=\"background-color: #FFAEAE\"> the</span><span style=\"background-color: #FF3737\"> movie</span><span style=\"background-color: #FF8787\"> that</span><span style=\"background-color: #FF9898\"> actually</span><span style=\"background-color: #FFF1F1\"> affected</span><span style=\"background-color: #FF9C9C\"> my</span><span style=\"background-color: #FF3535\"> life</span><span style=\"background-color: #FFD7D7\"> .</span><span style=\"background-color: #FF8E8E\"> I</span><span style=\"background-color: #FF9797\"> watched</span><span style=\"background-color: #FF1818\"> it</span><span style=\"background-color: #FF8787\"> during</span><span style=\"background-color: #FFDBDB\"> the</span><span style=\"background-color: #FF1C1C\"> difficult</span><span style=\"background-color: #FFDDDD\"> times</span><span style=\"background-color: #FF2626\"> when</span><span style=\"background-color: #FF8484\"> I</span><span style=\"background-color: #FF3B3B\"> was</span><span style=\"background-color: #FFD0D0\"> lost</span><span style=\"background-color: #FF8F8F\"> ,</span><span style=\"background-color: #FF9393\"> unhappy</span><span style=\"background-color: #FF6161\"> and</span><span style=\"background-color: #FF8C8C\"> very</span><span style=\"background-color: #FF6363\"> lonely</span><span style=\"background-color: #FFCFCF\"> ,</span><span style=\"background-color: #FF2525\"> when</span><span style=\"background-color: #FFBDBD\"> I</span><span style=\"background-color: #FF3232\"> had</span><span style=\"background-color: #FF7474\"> to</span><span style=\"background-color: #FFD0D0\"> deal</span><span style=\"background-color: #FF2E2E\"> with</span><span style=\"background-color: #FFC2C2\"> the</span><span style=\"background-color: #FF0B0B\"> sad</span><span style=\"background-color: #FFFCFC\"> and</span><span style=\"background-color: #FFCCCC\"> tragic</span><span style=\"background-color: #FF7F7F\"> events</span><span style=\"background-color: #FF2020\"> and</span><span style=\"background-color: #FF2F2F\"> to</span><span style=\"background-color: #FF1B1B\"> come</span><span style=\"background-color: #FF3636\"> to</span><span style=\"background-color: #FFD5D5\"> terms</span><span style=\"background-color: #FF5D5D\"> with</span><span style=\"background-color: #FF4848\"> some</span><span style=\"background-color: #FFC8C8\"> unflattering</span><span style=\"background-color: #FF5A5A\"> truth</span><span style=\"background-color: #FF7878\"> about</span><span style=\"background-color: #FF5454\"> myself</span><span style=\"background-color: #FFCCCC\"> .</span><span style=\"background-color: #FF2929\"> It</span><span style=\"background-color: #FFF3F3\"> helped</span><span style=\"background-color: #FF8E8E\"> me</span><span style=\"background-color: #FF9292\"> to</span><span style=\"background-color: #FF9797\"> regain</span><span style=\"background-color: #FFCFCF\"> my</span><span style=\"background-color: #FFDBDB\"> optimism</span><span style=\"background-color: #FFF4F4\"> and</span><span style=\"background-color: #FFDEDE\"> hope</span><span style=\"background-color: #FFF4F4\"> that</span><span style=\"background-color: #FFDFDF\"> anything</span><span style=\"background-color: #FF2929\"> could</span><span style=\"background-color: #FF4343\"> be</span><span style=\"background-color: #FFCACA\"> changed</span><span style=\"background-color: #FF6D6D\"> and</span><span style=\"background-color: #FF3838\"> anything</span><span style=\"background-color: #FF5B5B\"> is</span><span style=\"background-color: #FFE3E3\"> possible</span><span style=\"background-color: #FF8D8D\"> .</span><span style=\"background-color: #FF8989\"> I</span><span style=\"background-color: #FF7C7C\"> had</span><span style=\"background-color: #FFD2D2\"> promised</span><span style=\"background-color: #FFC9C9\"> to</span><span style=\"background-color: #FF9E9E\"> myself</span><span style=\"background-color: #FF6262\"> then</span><span style=\"background-color: #FF8787\"> that</span><span style=\"background-color: #FF5555\"> no</span><span style=\"background-color: #FFF8F8\"> matter</span><span style=\"background-color: #FFBCBC\"> what</span><span style=\"background-color: #FF6969\"> ,</span><span style=\"background-color: #FFBEBE\"> I</span><span style=\"background-color: #FFB0B0\"> would</span><span style=\"background-color: #FF1414\"> pull</span><span style=\"background-color: #FF1313\"> myself</span><span style=\"background-color: #FFEBEB\"> out</span><span style=\"background-color: #FF5F5F\"> of</span><span style=\"background-color: #FFE4E4\"> misery</span><span style=\"background-color: #FF6262\"> and</span><span style=\"background-color: #FFF8F8\"> self-pity</span><br>"
      ],
      "text/plain": [
       "<IPython.core.display.HTML object>"
      ]
     },
     "execution_count": 10,
     "metadata": {},
     "output_type": "execute_result"
    }
   ],
   "source": [
    "HTML(html_text)"
   ]
  },
  {
   "cell_type": "markdown",
   "id": "f4ab56df-e92b-4926-862b-bbbfd0799d16",
   "metadata": {},
   "source": [
    "### inferences "
   ]
  },
  {
   "cell_type": "code",
   "execution_count": 11,
   "id": "0df15541-3557-4c0d-945f-da5d99793fc7",
   "metadata": {},
   "outputs": [],
   "source": [
    "from preprocessing.dump_preprocessing import load_dump_prep"
   ]
  },
  {
   "cell_type": "code",
   "execution_count": 18,
   "id": "5d5599fa-e14f-4e64-bbe7-7038eb8fccec",
   "metadata": {},
   "outputs": [
    {
     "name": "stdout",
     "output_type": "stream",
     "text": [
      "input text: hello world\n",
      "predict: Positive\n"
     ]
    }
   ],
   "source": [
    "transform = load_dump_prep()\n",
    "dummy_text = \"hello world\"\n",
    "dummy_inputs = transform.transform(dummy_text)\n",
    "\n",
    "with torch.no_grad():\n",
    "    pred = net(dummy_inputs)\n",
    "    \n",
    "pred = pred.argmax(-1)\n",
    "if pred == 0:\n",
    "    pred_str = \"Negative\"\n",
    "else:\n",
    "    pred_str = \"Positive\"\n",
    "print(f\"input text: {dummy_text}\")\n",
    "print(f\"predict: {pred_str}\")"
   ]
  }
 ],
 "metadata": {
  "kernelspec": {
   "display_name": "Python 3 (ipykernel)",
   "language": "python",
   "name": "python3"
  },
  "language_info": {
   "codemirror_mode": {
    "name": "ipython",
    "version": 3
   },
   "file_extension": ".py",
   "mimetype": "text/x-python",
   "name": "python",
   "nbconvert_exporter": "python",
   "pygments_lexer": "ipython3",
   "version": "3.8.5"
  }
 },
 "nbformat": 4,
 "nbformat_minor": 5
}
