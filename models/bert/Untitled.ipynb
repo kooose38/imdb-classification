{
 "cells": [
  {
   "cell_type": "code",
   "execution_count": 1,
   "id": "fc176552-09c3-4fa7-9a9c-aca7d87a01f8",
   "metadata": {},
   "outputs": [],
   "source": [
    "from load_data import dataset"
   ]
  },
  {
   "cell_type": "code",
   "execution_count": 2,
   "id": "a2e88077-bd82-4739-9131-60fe48c08be5",
   "metadata": {},
   "outputs": [
    {
     "name": "stdout",
     "output_type": "stream",
     "text": [
      "torch.Size([16, 2])\n"
     ]
    }
   ],
   "source": [
    "train, val, test = dataset.transform(max_length=2)\n",
    "\n",
    "for t in train:\n",
    "    sample = t[\"input_ids\"]\n",
    "    mask = t[\"attention_mask\"]\n",
    "    token = t[\"token_type_ids\"]\n",
    "    labels = t[\"labels\"]\n",
    "    print(sample.size())\n",
    "    break "
   ]
  },
  {
   "cell_type": "code",
   "execution_count": 3,
   "id": "e3d0593f-cdc0-4d4e-8b92-034f33692dbf",
   "metadata": {},
   "outputs": [],
   "source": [
    "import torch \n",
    "a = torch.rand(1, 2).long()\n",
    "b = torch.rand(1, 2).long()"
   ]
  },
  {
   "cell_type": "code",
   "execution_count": 4,
   "id": "0575358e-9ab3-49a5-a5a1-e3b028a0e56a",
   "metadata": {},
   "outputs": [],
   "source": [
    "# from networks.classifier_net import BertForIMDBClassification\n",
    "# from networks.load_config import config\n",
    "\n",
    "# net = BertForIMDBClassification(config)"
   ]
  },
  {
   "cell_type": "code",
   "execution_count": 5,
   "id": "0fc6d90f-20be-4195-b067-f3ef96cad75d",
   "metadata": {},
   "outputs": [],
   "source": [
    "# net(a, b)"
   ]
  },
  {
   "cell_type": "code",
   "execution_count": 6,
   "id": "fe95b2b2-0d03-4d0a-854a-27caa81f1bed",
   "metadata": {},
   "outputs": [],
   "source": [
    "# import torch.onnx as onnx \n",
    "\n",
    "# onnx.export(net, (torch.rand(1, 2).long(), torch.rand(1, 2).long()), \"sample2.onnx\")"
   ]
  },
  {
   "cell_type": "code",
   "execution_count": 7,
   "id": "e8ab30cb-e736-472c-8b1c-ba3116310790",
   "metadata": {},
   "outputs": [],
   "source": [
    "# net(torch.rand(1, 2).long(), torch.rand(1,2).long(), torch.rand(1, 2).long())"
   ]
  },
  {
   "cell_type": "code",
   "execution_count": null,
   "id": "f057e782-d966-4c84-bfea-e60a2857c4a1",
   "metadata": {},
   "outputs": [],
   "source": []
  }
 ],
 "metadata": {
  "kernelspec": {
   "display_name": "Python 3 (ipykernel)",
   "language": "python",
   "name": "python3"
  },
  "language_info": {
   "codemirror_mode": {
    "name": "ipython",
    "version": 3
   },
   "file_extension": ".py",
   "mimetype": "text/x-python",
   "name": "python",
   "nbconvert_exporter": "python",
   "pygments_lexer": "ipython3",
   "version": "3.8.5"
  }
 },
 "nbformat": 4,
 "nbformat_minor": 5
}
