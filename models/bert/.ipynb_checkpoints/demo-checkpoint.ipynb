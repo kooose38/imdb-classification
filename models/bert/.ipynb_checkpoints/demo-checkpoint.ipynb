{
 "cells": [
  {
   "cell_type": "code",
   "execution_count": 2,
   "id": "fc176552-09c3-4fa7-9a9c-aca7d87a01f8",
   "metadata": {},
   "outputs": [],
   "source": [
    "from load_data import dataset"
   ]
  },
  {
   "cell_type": "code",
   "execution_count": 3,
   "id": "a2e88077-bd82-4739-9131-60fe48c08be5",
   "metadata": {},
   "outputs": [
    {
     "name": "stdout",
     "output_type": "stream",
     "text": [
      "torch.Size([16, 216])\n"
     ]
    }
   ],
   "source": [
    "train, val, test = dataset.transform()\n",
    "\n",
    "for t in train:\n",
    "    sample = t[\"input_ids\"]\n",
    "    mask = t[\"attention_mask\"]\n",
    "    token = t[\"token_type_ids\"]\n",
    "    labels = t[\"labels\"]\n",
    "    print(sample.size())\n",
    "    break "
   ]
  },
  {
   "cell_type": "code",
   "execution_count": 14,
   "id": "e3d0593f-cdc0-4d4e-8b92-034f33692dbf",
   "metadata": {},
   "outputs": [],
   "source": [
    "import torch \n",
    "a = torch.rand(1, 2).long()\n",
    "b = torch.rand(1, 2).long()"
   ]
  },
  {
   "cell_type": "code",
   "execution_count": 18,
   "id": "ba35e964-85c2-4d4f-9f6d-cf0274fe8f03",
   "metadata": {},
   "outputs": [
    {
     "name": "stdout",
     "output_type": "stream",
     "text": [
      "torch.Size([1, 2, 768])\n"
     ]
    }
   ],
   "source": [
    "from networks.bertmodel.embedding_net import EmbedderForBert\n",
    "from networks.load_config import config\n",
    "\n",
    "\n",
    "embed = EmbedderForBert(config)\n",
    "out = embed(a, b)\n",
    "print(out.size())"
   ]
  },
  {
   "cell_type": "code",
   "execution_count": 19,
   "id": "b3ee89de-be16-4e80-bb04-51bdf6741b21",
   "metadata": {},
   "outputs": [
    {
     "name": "stdout",
     "output_type": "stream",
     "text": [
      "torch.Size([1, 2, 768])\n"
     ]
    },
    {
     "name": "stderr",
     "output_type": "stream",
     "text": [
      "/home/kooose/my-lab/imdb-classification/work/models/bert/networks/bertmodel/attention_net.py:56: UserWarning: Implicit dimension choice for softmax has been deprecated. Change the call to include dim=X as an argument.\n",
      "  weigths = torch.nn.functional.softmax(weights) #ここで<pad>の部分はほぼ0になる\n"
     ]
    }
   ],
   "source": [
    "from networks.bertmodel.attention_net import BertSelfAttention\n",
    "\n",
    "attnet = BertSelfAttention(config)\n",
    "out_att = attnet(out, torch.rand(1, 2))\n",
    "print(out_att.size())"
   ]
  },
  {
   "cell_type": "code",
   "execution_count": 20,
   "id": "a613191e-252e-46db-b57a-cd2f515a5958",
   "metadata": {},
   "outputs": [
    {
     "ename": "ImportError",
     "evalue": "cannot import name 'BertAttention' from 'networks.bertmodel.attention_net' (/home/kooose/my-lab/imdb-classification/work/models/bert/networks/bertmodel/attention_net.py)",
     "output_type": "error",
     "traceback": [
      "\u001b[0;31m---------------------------------------------------------------------------\u001b[0m",
      "\u001b[0;31mImportError\u001b[0m                               Traceback (most recent call last)",
      "\u001b[0;32m/tmp/ipykernel_820/864686270.py\u001b[0m in \u001b[0;36m<module>\u001b[0;34m\u001b[0m\n\u001b[0;32m----> 1\u001b[0;31m \u001b[0;32mfrom\u001b[0m \u001b[0mnetworks\u001b[0m\u001b[0;34m.\u001b[0m\u001b[0mbertmodel\u001b[0m\u001b[0;34m.\u001b[0m\u001b[0mattention_net\u001b[0m \u001b[0;32mimport\u001b[0m \u001b[0mBertAttention\u001b[0m\u001b[0;34m\u001b[0m\u001b[0;34m\u001b[0m\u001b[0m\n\u001b[0m\u001b[1;32m      2\u001b[0m \u001b[0;34m\u001b[0m\u001b[0m\n\u001b[1;32m      3\u001b[0m \u001b[0mattnet\u001b[0m \u001b[0;34m=\u001b[0m \u001b[0mBertAttention\u001b[0m\u001b[0;34m(\u001b[0m\u001b[0mconfig\u001b[0m\u001b[0;34m)\u001b[0m\u001b[0;34m\u001b[0m\u001b[0;34m\u001b[0m\u001b[0m\n\u001b[1;32m      4\u001b[0m \u001b[0moutput\u001b[0m \u001b[0;34m,\u001b[0m \u001b[0matt\u001b[0m \u001b[0;34m=\u001b[0m \u001b[0mattnet\u001b[0m\u001b[0;34m(\u001b[0m\u001b[0mout\u001b[0m\u001b[0;34m,\u001b[0m \u001b[0mtorch\u001b[0m\u001b[0;34m.\u001b[0m\u001b[0mrand\u001b[0m\u001b[0;34m(\u001b[0m\u001b[0;36m1\u001b[0m\u001b[0;34m,\u001b[0m \u001b[0;36m2\u001b[0m\u001b[0;34m)\u001b[0m\u001b[0;34m)\u001b[0m\u001b[0;34m\u001b[0m\u001b[0;34m\u001b[0m\u001b[0m\n\u001b[1;32m      5\u001b[0m \u001b[0mprint\u001b[0m\u001b[0;34m(\u001b[0m\u001b[0moutput\u001b[0m\u001b[0;34m.\u001b[0m\u001b[0msize\u001b[0m\u001b[0;34m(\u001b[0m\u001b[0;34m)\u001b[0m\u001b[0;34m)\u001b[0m\u001b[0;34m\u001b[0m\u001b[0;34m\u001b[0m\u001b[0m\n",
      "\u001b[0;31mImportError\u001b[0m: cannot import name 'BertAttention' from 'networks.bertmodel.attention_net' (/home/kooose/my-lab/imdb-classification/work/models/bert/networks/bertmodel/attention_net.py)"
     ]
    }
   ],
   "source": [
    "from networks.bertmodel.attention_net import BertAttention\n",
    "\n",
    "attnet = BertAttention(config)\n",
    "output , att = attnet(out, torch.rand(1, 2))\n",
    "print(output.size())\n",
    "print(att.size())"
   ]
  },
  {
   "cell_type": "code",
   "execution_count": null,
   "id": "f3fb3e33-f661-400a-8c95-e78fa5c491d8",
   "metadata": {},
   "outputs": [],
   "source": []
  }
 ],
 "metadata": {
  "kernelspec": {
   "display_name": "Python 3 (ipykernel)",
   "language": "python",
   "name": "python3"
  },
  "language_info": {
   "codemirror_mode": {
    "name": "ipython",
    "version": 3
   },
   "file_extension": ".py",
   "mimetype": "text/x-python",
   "name": "python",
   "nbconvert_exporter": "python",
   "pygments_lexer": "ipython3",
   "version": "3.8.5"
  }
 },
 "nbformat": 4,
 "nbformat_minor": 5
}
