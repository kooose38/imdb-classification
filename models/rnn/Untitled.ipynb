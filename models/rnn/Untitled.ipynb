{
 "cells": [
  {
   "cell_type": "code",
   "execution_count": 1,
   "id": "afdbbe2e-9029-4f41-90ef-c6c958fe9531",
   "metadata": {},
   "outputs": [],
   "source": [
    "from load_data import data"
   ]
  },
  {
   "cell_type": "code",
   "execution_count": 2,
   "id": "38271712-dc4c-4249-a1c4-04c126860201",
   "metadata": {},
   "outputs": [],
   "source": [
    "train, val, test = data.make_loader()\n",
    "data.vocab_size"
   ]
  },
  {
   "cell_type": "code",
   "execution_count": 3,
   "id": "a2aaa1d2-5764-423f-a827-d63370644485",
   "metadata": {},
   "outputs": [],
   "source": [
    "for r in train:\n",
    "    sample = r[\"input_ids\"]\n",
    "    labels = r[\"labels\"]\n",
    "    break \n",
    "print(sample.size())\n",
    "print(labels.size())"
   ]
  },
  {
   "cell_type": "code",
   "execution_count": null,
   "id": "2144141c-7e86-4084-af1e-8c89f1e5ad86",
   "metadata": {},
   "outputs": [],
   "source": []
  }
 ],
 "metadata": {
  "kernelspec": {
   "display_name": "Python 3 (ipykernel)",
   "language": "python",
   "name": "python3"
  },
  "language_info": {
   "codemirror_mode": {
    "name": "ipython",
    "version": 3
   },
   "file_extension": ".py",
   "mimetype": "text/x-python",
   "name": "python",
   "nbconvert_exporter": "python",
   "pygments_lexer": "ipython3",
   "version": "3.8.5"
  }
 },
 "nbformat": 4,
 "nbformat_minor": 5
}
